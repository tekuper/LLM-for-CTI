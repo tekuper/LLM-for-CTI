{
  "nbformat": 4,
  "nbformat_minor": 0,
  "metadata": {
    "colab": {
      "provenance": []
    },
    "kernelspec": {
      "name": "python3",
      "display_name": "Python 3"
    },
    "language_info": {
      "name": "python"
    }
  },
  "cells": [
    {
      "cell_type": "code",
      "execution_count": 9,
      "metadata": {
        "colab": {
          "base_uri": "https://localhost:8080/"
        },
        "id": "f3wmEn6eNE3Q",
        "outputId": "4b2e439c-b9d1-4090-a956-21e7fc87d809"
      },
      "outputs": [
        {
          "output_type": "stream",
          "name": "stdout",
          "text": [
            "Drive already mounted at /content/drive; to attempt to forcibly remount, call drive.mount(\"/content/drive\", force_remount=True).\n",
            "All questions have been combined and saved to /content/drive/My Drive/final_questions_based_on_options.xlsx.\n"
          ]
        }
      ],
      "source": [
        "import os\n",
        "import pandas as pd\n",
        "from google.colab import drive\n",
        "\n",
        "# Mount Google Drive (if you're working in Colab)\n",
        "drive.mount('/content/drive')\n",
        "\n",
        "# Function to parse the text file based on the **Options:** section\n",
        "def parse_questions_file(file_path):\n",
        "    questions = []\n",
        "    with open(file_path, 'r', encoding='utf-8', errors='replace') as file:\n",
        "        content = file.read()\n",
        "\n",
        "        # Split the content into blocks based on **Options:**\n",
        "        question_blocks = content.split(\"**Options:**\")\n",
        "\n",
        "        for block in question_blocks[:-1]:  # Iterate through all blocks except the last one (since it won't have options)\n",
        "            question = {}\n",
        "\n",
        "            # Step 1: Look backwards to find the question text (before **Options:**)\n",
        "            lines = block.strip().split('\\n')\n",
        "\n",
        "            # Find the last line before **Options:** that doesn't start with '**' or \"Question\" (to get the actual question text)\n",
        "            question_text = next(\n",
        "                (line for line in reversed(lines) if not line.startswith(\"**\") and not line.startswith(\"Question\")),\n",
        "                'N/A'\n",
        "            )\n",
        "\n",
        "            # Step 2: Extract options from the next block (after **Options:**)\n",
        "            options_block = question_blocks[question_blocks.index(block) + 1].strip().split('\\n')\n",
        "            options = {}\n",
        "            options['A'] = next((line[3:] for line in options_block if line.startswith(\"A.\")), 'N/A')\n",
        "            options['B'] = next((line[3:] for line in options_block if line.startswith(\"B.\")), 'N/A')\n",
        "            options['C'] = next((line[3:] for line in options_block if line.startswith(\"C.\")), 'N/A')\n",
        "            options['D'] = next((line[3:] for line in options_block if line.startswith(\"D.\")), 'N/A')\n",
        "\n",
        "            # Step 3: Look forward in the options block to find the correct answer and explanation\n",
        "            correct_answer = next((line for line in options_block if '**Correct Answer:**' in line), 'N/A').replace('**Correct Answer:** ', '')\n",
        "            explanation = next((line for line in options_block if '**Explanation:**' in line), 'N/A').replace('**Explanation:** ', '')\n",
        "\n",
        "            # Step 4: Add all extracted data to the question dictionary\n",
        "            question['Question'] = question_text.strip()\n",
        "            question['Option A'] = options['A'].strip()\n",
        "            question['Option B'] = options['B'].strip()\n",
        "            question['Option C'] = options['C'].strip()\n",
        "            question['Option D'] = options['D'].strip()\n",
        "            question['Correct Answer'] = correct_answer.strip()\n",
        "            question['Explanation'] = explanation.strip()\n",
        "\n",
        "            # Add the question to the list\n",
        "            questions.append(question)\n",
        "\n",
        "    return questions\n",
        "\n",
        "# Directory containing the question text files in Google Drive\n",
        "directory = '/content/drive/My Drive'  # Adjust this path\n",
        "\n",
        "# List to hold all questions data\n",
        "all_questions = []\n",
        "\n",
        "# Loop through all text files in the directory\n",
        "for filename in os.listdir(directory):\n",
        "    if filename.startswith('questio'):  # Adjust based on file naming pattern\n",
        "        file_path = os.path.join(directory, filename)\n",
        "        all_questions.extend(parse_questions_file(file_path))\n",
        "\n",
        "# Convert the list of dictionaries into a DataFrame\n",
        "df = pd.DataFrame(all_questions)\n",
        "\n",
        "# Save the DataFrame to an Excel file in Google Drive as .xlsx\n",
        "output_file = '/content/drive/My Drive/final_questions_based_on_options.xlsx'\n",
        "df.to_excel(output_file, index=False)\n",
        "\n",
        "print(f'All questions have been combined and saved to {output_file}.')\n"
      ]
    },
    {
      "cell_type": "code",
      "source": [
        "import pandas as pd\n",
        "\n",
        "# Load the existing Excel file into a DataFrame\n",
        "file_path = '/content/drive/My Drive/final_questions_based_on_options.xlsx'  # Adjust the path to your file\n",
        "df = pd.read_excel(file_path)\n",
        "\n",
        "# Remove rows that contain 'N/A' in any column\n",
        "df_cleaned = df.replace('N/A', pd.NA).dropna(how='any')\n",
        "\n",
        "# Remove fully empty rows (if any)\n",
        "df_cleaned = df_cleaned.dropna(how='all')\n",
        "\n",
        "# Save the cleaned DataFrame back to a new Excel file\n",
        "cleaned_file_path = '/content/drive/My Drive/cleaned_questions_output.xlsx'  # Adjust the path if needed\n",
        "df_cleaned.to_excel(cleaned_file_path, index=False)\n",
        "\n",
        "print(f\"Cleaned data has been saved to {cleaned_file_path}\")\n"
      ],
      "metadata": {
        "colab": {
          "base_uri": "https://localhost:8080/"
        },
        "id": "-2LUb_eadBOm",
        "outputId": "08b4e5ac-a9ab-43d9-a2c7-0799bfaea5b9"
      },
      "execution_count": 10,
      "outputs": [
        {
          "output_type": "stream",
          "name": "stdout",
          "text": [
            "Cleaned data has been saved to /content/drive/My Drive/cleaned_questions_output.xlsx\n"
          ]
        }
      ]
    }
  ]
}