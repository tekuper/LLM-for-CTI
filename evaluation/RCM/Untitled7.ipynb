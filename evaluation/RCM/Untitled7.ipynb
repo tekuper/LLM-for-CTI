{
  "nbformat": 4,
  "nbformat_minor": 0,
  "metadata": {
    "colab": {
      "provenance": []
    },
    "kernelspec": {
      "name": "python3",
      "display_name": "Python 3"
    },
    "language_info": {
      "name": "python"
    }
  },
  "cells": [
    {
      "cell_type": "code",
      "execution_count": 1,
      "metadata": {
        "colab": {
          "base_uri": "https://localhost:8080/"
        },
        "id": "rYuwuYp9MXLf",
        "outputId": "2a7793fb-f807-47ae-d018-dc734215c952"
      },
      "outputs": [
        {
          "output_type": "stream",
          "name": "stdout",
          "text": [
            "Mounted at /content/drive\n",
            "Total Cases: 1000\n",
            "Matching CWE IDs: 33\n",
            "Accuracy: 3.30%\n"
          ]
        }
      ],
      "source": [
        "from google.colab import drive\n",
        "import csv\n",
        "import re\n",
        "\n",
        "# Mount Google Drive\n",
        "drive.mount('/content/drive')\n",
        "\n",
        "# Function to extract CWE ID from the RCM Response\n",
        "def extract_cwe_from_rcm(response_text):\n",
        "    # Look for the pattern 'CWE-ID:' or 'CWE ID: CWE-XXX' in the generated response\n",
        "    match = re.search(r'CWE[-\\s]?ID[:]*\\s*CWE[-\\s]?(\\d+)', response_text, re.IGNORECASE)\n",
        "    if match:\n",
        "        return match.group(1)  # Return the matched CWE ID (numeric part)\n",
        "    return None\n",
        "\n",
        "# Function to calculate accuracy by comparing the CWE IDs\n",
        "def calculate_cwe_accuracy(file_path, delimiter=','):\n",
        "    match_count = 0\n",
        "    total_count = 0\n",
        "\n",
        "    # Open the file and process each row\n",
        "    with open(file_path, mode='r') as file:\n",
        "        reader = csv.DictReader(file, delimiter=delimiter)\n",
        "\n",
        "        # Loop through each row to compare CWE ID in GT and Generated RCM Response\n",
        "        for row in reader:\n",
        "            gt_cwe = row['GT'].strip()  # Get the CWE ID from GT column\n",
        "            rcm_response = row['Generated RCM Response'].strip()  # Get the RCM response\n",
        "\n",
        "            # Extract the CWE ID from the RCM response\n",
        "            generated_cwe = extract_cwe_from_rcm(rcm_response)\n",
        "\n",
        "            # Compare CWE IDs\n",
        "            if gt_cwe and generated_cwe and gt_cwe == f\"CWE-{generated_cwe}\":\n",
        "                match_count += 1\n",
        "            total_count += 1\n",
        "\n",
        "    # Calculate accuracy\n",
        "    if total_count > 0:\n",
        "        accuracy = (match_count / total_count) * 100\n",
        "        print(f\"Total Cases: {total_count}\")\n",
        "        print(f\"Matching CWE IDs: {match_count}\")\n",
        "        print(f\"Accuracy: {accuracy:.2f}%\")\n",
        "    else:\n",
        "        print(\"No data found in the file.\")\n",
        "\n",
        "# Example usage\n",
        "file_path = '/content/drive/MyDrive/rcm-output-results.csv'  # Replace with your actual file path\n",
        "calculate_cwe_accuracy(file_path)\n"
      ]
    }
  ]
}