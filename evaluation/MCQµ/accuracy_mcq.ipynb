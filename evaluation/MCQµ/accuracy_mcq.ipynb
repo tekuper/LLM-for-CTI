{
  "nbformat": 4,
  "nbformat_minor": 0,
  "metadata": {
    "colab": {
      "provenance": []
    },
    "kernelspec": {
      "name": "python3",
      "display_name": "Python 3"
    },
    "language_info": {
      "name": "python"
    }
  },
  "cells": [
    {
      "cell_type": "code",
      "execution_count": 8,
      "metadata": {
        "colab": {
          "base_uri": "https://localhost:8080/"
        },
        "id": "453BYyXvJFs2",
        "outputId": "5fa2f345-892b-43bd-8d94-823182bab743"
      },
      "outputs": [
        {
          "output_type": "stream",
          "name": "stdout",
          "text": [
            "Drive already mounted at /content/drive; to attempt to forcibly remount, call drive.mount(\"/content/drive\", force_remount=True).\n",
            "Total Questions: 1732\n",
            "Correct Answers: 836\n",
            "Accuracy: 48.27%\n"
          ]
        }
      ],
      "source": [
        "# Step 1: Mount Google Drive in Colab\n",
        "from google.colab import drive\n",
        "import csv\n",
        "\n",
        "# Mount Google Drive\n",
        "drive.mount('/content/drive')\n",
        "\n",
        "# Step 2: Function to calculate accuracy\n",
        "def calculate_accuracy(file_path, delimiter=','):\n",
        "    correct_count = 0\n",
        "    total_count = 0\n",
        "\n",
        "    # Open the file and process each row\n",
        "    with open(file_path, mode='r') as file:\n",
        "        reader = csv.DictReader(file, delimiter=delimiter)\n",
        "\n",
        "        # Loop through each row to count correct and total answers\n",
        "        for row in reader:\n",
        "            evaluation = row['Evaluation'].strip()  # Get the evaluation value\n",
        "\n",
        "            if evaluation.lower() == 'correct':  # If the answer is marked as correct\n",
        "                correct_count += 1\n",
        "            total_count += 1  # Count each question\n",
        "\n",
        "    # Calculate accuracy\n",
        "    if total_count > 0:\n",
        "        accuracy = (correct_count / total_count) * 100\n",
        "        print(f\"Total Questions: {total_count}\")\n",
        "        print(f\"Correct Answers: {correct_count}\")\n",
        "        print(f\"Accuracy: {accuracy:.2f}%\")\n",
        "    else:\n",
        "        print(\"No questions found in the file.\")\n",
        "\n",
        "# Step 3: Specify the path to the CSV file in Google Drive\n",
        "# You need to replace the path below with your actual file path in your Google Drive\n",
        "file_path = '/content/drive/MyDrive/cti-mcq-resultsss.csv'  # Adjust the path\n",
        "\n",
        "# Step 4: Call the function to calculate accuracy\n",
        "calculate_accuracy(file_path)\n"
      ]
    }
  ]
}